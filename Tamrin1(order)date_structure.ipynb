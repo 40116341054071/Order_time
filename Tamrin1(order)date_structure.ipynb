{
  "nbformat": 4,
  "nbformat_minor": 0,
  "metadata": {
    "colab": {
      "provenance": [],
      "mount_file_id": "1W5fMFheXlpW5HnJHo9jlFFVyMxfaTnBW",
      "authorship_tag": "ABX9TyM/4ENtrGepDsrV+gBzrOHQ",
      "include_colab_link": true
    },
    "kernelspec": {
      "name": "python3",
      "display_name": "Python 3"
    },
    "language_info": {
      "name": "python"
    }
  },
  "cells": [
    {
      "cell_type": "markdown",
      "metadata": {
        "id": "view-in-github",
        "colab_type": "text"
      },
      "source": [
        "<a href=\"https://colab.research.google.com/github/40116341054071/Order_time/blob/main/Tamrin1(order)date_structure.ipynb\" target=\"_parent\"><img src=\"https://colab.research.google.com/assets/colab-badge.svg\" alt=\"Open In Colab\"/></a>"
      ]
    },
    {
      "cell_type": "code",
      "execution_count": null,
      "metadata": {
        "id": "nxI-FDz0tvCx"
      },
      "outputs": [],
      "source": [
        "import datetime\n",
        "start=datetime.datetime.now()\n",
        "def f(x,y,n):\n",
        "  if x>y:\n",
        "    for i in range (n):\n",
        "      print (i)\n",
        "  else:\n",
        "    for i in range (n):\n",
        "      for j in range (n):\n",
        "        print (i,j)\n",
        "n=1000\n",
        "x=5\n",
        "y=3\n",
        "f(x,y,n)\n",
        "end=datetime.datetime.now()\n",
        "print(end-start)"
      ]
    },
    {
      "cell_type": "code",
      "source": [
        "from google.colab import drive\n",
        "drive.mount('/content/drive')"
      ],
      "metadata": {
        "id": "9Yk_tiv2mr2a"
      },
      "execution_count": null,
      "outputs": []
    }
  ]
}